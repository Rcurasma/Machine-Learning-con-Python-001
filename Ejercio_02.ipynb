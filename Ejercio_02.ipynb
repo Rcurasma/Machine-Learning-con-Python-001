{
  "nbformat": 4,
  "nbformat_minor": 0,
  "metadata": {
    "colab": {
      "name": "Ejercio_02.ipynb",
      "provenance": [],
      "collapsed_sections": [],
      "include_colab_link": true
    },
    "kernelspec": {
      "display_name": "Python 3",
      "name": "python3"
    }
  },
  "cells": [
    {
      "cell_type": "markdown",
      "metadata": {
        "id": "view-in-github",
        "colab_type": "text"
      },
      "source": [
        "<a href=\"https://colab.research.google.com/github/RubenQuispe/Machine-Learning-con-Python-001/blob/master/Ejercio_02.ipynb\" target=\"_parent\"><img src=\"https://colab.research.google.com/assets/colab-badge.svg\" alt=\"Open In Colab\"/></a>"
      ]
    },
    {
      "cell_type": "markdown",
      "metadata": {
        "colab_type": "text",
        "id": "tOoyQ70H00_s"
      },
      "source": [
        "## Exercise 2 Detección de digitos de 0_9\n",
        "## M.Sc. Ruben Quispe\n",
        "\n",
        "En el curso, aprendió a clasificar utilizando Fashion MNIST, un conjunto de datos que contiene prendas de vestir. Hay otro conjunto de datos similar llamado MNIST que tiene elementos de escritura a mano: los dígitos del 0 al 9.\n",
        "\n",
        "Escriba un clasificador MNIST que entrene con una precisión del 99% o más, y lo haga sin un número fijo de épocas, es decir, debe dejar de entrenar una vez que alcance ese nivel de precisión.\n",
        "\n",
        "Algunas notas:\n",
        "1. Debería tener éxito en menos de 10 épocas, por lo que está bien cambiar las épocas a 10, pero nada más grande\n",
        "2. Cuando alcance el 99% o más, debería imprimir la cadena \"¡Alcanzó el 99% de precisión, así que canceló el entrenamiento!\"\n",
        "3. Si agrega variables adicionales, asegúrese de usar los mismos nombres que los usados en la clase\n",
        "\n",
        "Comencé el código para usted a continuación, ¿cómo lo terminaría? "
      ]
    },
    {
      "cell_type": "code",
      "metadata": {
        "colab_type": "code",
        "id": "9rvXQGAA0ssC",
        "colab": {}
      },
      "source": [
        "# Tu codigo deberia inicia aqui\n",
        "# Tu codigo deberia terminar aqui\n",
        "import tensorflow as tf\n",
        "mnist = tf.keras.datasets.mnist\n",
        "\n",
        "(x_train, y_train),(x_test, y_test) = mnist.load_data()\n",
        "# Tu codigo deberia inicia aqui\n",
        "\n",
        "# Tu codigo deberia terminar aqui\n",
        "\n",
        "model = tf.keras.models.Sequential([\n",
        "# Tu codigo deberia inicia aqui\n",
        "\n",
        "# Tu codigo deberia terminar aqui\n",
        "])\n",
        "\n",
        "model.compile(optimizer='adam',\n",
        "              loss='sparse_categorical_crossentropy',\n",
        "              metrics=['accuracy'])\n",
        "\n",
        "# Tu codigo deberia inicia aqui\n",
        "# Tu codigo deberia terminar aqui"
      ],
      "execution_count": null,
      "outputs": []
    },
    {
      "cell_type": "markdown",
      "metadata": {
        "id": "nmA2LuyYDT5g",
        "colab_type": "text"
      },
      "source": [
        "texto en cursiva"
      ]
    }
  ]
}